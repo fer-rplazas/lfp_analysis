{
 "cells": [
  {
   "cell_type": "code",
   "execution_count": 1,
   "id": "9fba12e3-60c4-4fa9-8340-41ea1fb29e76",
   "metadata": {
    "tags": []
   },
   "outputs": [
    {
     "data": {
      "application/javascript": [
       "IPython.notebook.set_autosave_interval(10000)"
      ]
     },
     "metadata": {},
     "output_type": "display_data"
    },
    {
     "name": "stdout",
     "output_type": "stream",
     "text": [
      "Autosaving every 10 seconds\n"
     ]
    }
   ],
   "source": [
    "%load_ext autoreload\n",
    "%autoreload 2\n",
    "\n",
    "%autosave 10\n",
    "\n",
    "#%load_ext lab_black"
   ]
  },
  {
   "cell_type": "code",
   "execution_count": 2,
   "id": "4e37c3a0-018e-4458-b12d-36d04383dd1a",
   "metadata": {},
   "outputs": [],
   "source": [
    "import sys\n",
    "import os\n",
    "\n",
    "sys.path.insert(0, os.path.abspath(os.path.join(\"..\")))"
   ]
  },
  {
   "cell_type": "code",
   "execution_count": 3,
   "id": "16b3caff-8c63-4719-ab00-575a082b8e7e",
   "metadata": {},
   "outputs": [],
   "source": [
    "import logging\n",
    "\n",
    "logging.basicConfig(filename=\"mylog.log\", format=\"%(message)s\", level=logging.INFO)\n",
    "logging.info(\"-- Starting run\")"
   ]
  },
  {
   "cell_type": "code",
   "execution_count": null,
   "id": "d52f8a5c-b487-47e6-b6f2-adf68710ec10",
   "metadata": {},
   "outputs": [],
   "source": []
  },
  {
   "cell_type": "code",
   "execution_count": 4,
   "id": "4f1f3df1-4f4c-4c61-a156-9541f6328ab1",
   "metadata": {},
   "outputs": [],
   "source": [
    "from lfp_analysis.data import *\n",
    "from lfp_analysis.process import *\n",
    "from lfp_analysis.resnet2d import *\n",
    "from lfp_analysis.resnet1d import *\n",
    "from lfp_analysis.svm import *\n",
    "from lfp_analysis.report import *\n",
    "\n",
    "from fastai.vision.all import *\n",
    "import torch.nn.functional as F\n",
    "from torchvision.transforms import ToPILImage, ToTensor"
   ]
  },
  {
   "cell_type": "code",
   "execution_count": null,
   "id": "42993477-fd99-43f0-9c43-cbe3fd417bb8",
   "metadata": {},
   "outputs": [],
   "source": []
  },
  {
   "cell_type": "code",
   "execution_count": 24,
   "id": "85c8b839-292b-4145-979a-581eed6a37b6",
   "metadata": {},
   "outputs": [],
   "source": [
    "import numpy as np\n",
    "import pandas as pd\n",
    "import h5py\n",
    "import json\n",
    "\n",
    "from pathlib import Path\n",
    "\n",
    "import matplotlib.pyplot as plt\n",
    "import matplotlib.patches as patches\n",
    "from matplotlib.colors import to_hex\n",
    "from matplotlib.lines import Line2D\n",
    "\n",
    "\n",
    "%matplotlib widget\n",
    "\n",
    "import matplotlib\n",
    "\n",
    "font = {\"size\": 9}\n",
    "matplotlib.rc(\"font\", **font)\n",
    "\n",
    "import seaborn as sns\n",
    "\n",
    "WIN_LEN_SEC = 0.750"
   ]
  },
  {
   "cell_type": "code",
   "execution_count": 6,
   "id": "962b9cb3-b5a4-490c-bb64-c0063c95d549",
   "metadata": {},
   "outputs": [],
   "source": [
    "pat_nums = list(range(1, 9))\n",
    "tasks = [\"Pegboard\", \"Pouring\", \"Posture\"]\n",
    "stim_conds = [\"ON\", \"OFF\"]"
   ]
  },
  {
   "cell_type": "code",
   "execution_count": 7,
   "id": "b9ad1586-fc84-4c01-b69a-b64fbb721cd0",
   "metadata": {},
   "outputs": [],
   "source": [
    "def pr(*args):\n",
    "    print(args)\n",
    "\n",
    "    logging.info(\"\")\n",
    "    logging.info(args)\n",
    "    logging.info(\"--------\")"
   ]
  },
  {
   "cell_type": "markdown",
   "id": "10785531-1937-4614-8a7a-c9acddb6d33d",
   "metadata": {},
   "source": [
    "# Import data: "
   ]
  },
  {
   "cell_type": "code",
   "execution_count": 8,
   "id": "760475c3-0ed1-4a86-84dd-11647dacc0d3",
   "metadata": {},
   "outputs": [],
   "source": [
    "with open('within_cond_svm.json', 'r') as f:\n",
    "    within_svm = json.load(f)\n",
    "    \n",
    "with open('within_cond_lda.json', 'r') as f:\n",
    "    within_lda = json.load(f)\n",
    "    \n",
    "with open('within_cond_cnn.json', 'r') as f:\n",
    "    within_cnn = json.load(f)"
   ]
  },
  {
   "cell_type": "code",
   "execution_count": 9,
   "id": "fef47417-e718-4f43-bd2d-45dedc70f375",
   "metadata": {},
   "outputs": [],
   "source": [
    "with open('across_cond_svm.json', 'r') as f:\n",
    "    across_svm = json.load(f)\n",
    "    \n",
    "with open('across_cond_lda.json', 'r') as f:\n",
    "    across_lda = json.load(f)\n",
    "    \n",
    "with open('across_cond_cnn.json', 'r') as f:\n",
    "    across_cnn = json.load(f)"
   ]
  },
  {
   "cell_type": "code",
   "execution_count": 10,
   "id": "67107f03-da1f-49ab-a734-ee5490879fdd",
   "metadata": {},
   "outputs": [],
   "source": [
    "with open('across_cond_svm_same_norm.json', 'r') as f:\n",
    "    across_svm_same_norm = json.load(f)\n",
    "    \n",
    "with open('across_cond_lda_same_norm.json', 'r') as f:\n",
    "    across_lda_same_norm = json.load(f)"
   ]
  },
  {
   "cell_type": "code",
   "execution_count": null,
   "id": "387cc9d5-a3ba-41ae-823e-f8d77ed5dfeb",
   "metadata": {},
   "outputs": [],
   "source": [
    "fig, ax = plt.subplots()\n",
    "\n",
    "svm_res = across_svm\n",
    "lda_res = across_lda\n",
    "cnn_res = across_cnn\n",
    "\n",
    "for pat_num in pat_nums:\n",
    "    for task in tasks:\n",
    "        for stim_cond in stim_conds:\n",
    "            \n",
    "            lda_val = lda_res[str(pat_num)][task][stim_cond]\n",
    "            if lda_val is None:\n",
    "                continue\n",
    "            lda_val = lda_val['AUC']['mean']\n",
    "            svm_val = svm_res[str(pat_num)][task][stim_cond]['AUC']['mean']\n",
    "            if lda_val is not None and svm_val is not None:\n",
    "                ax.plot([0,1],[svm_val, lda_val],c='k')"
   ]
  },
  {
   "cell_type": "markdown",
   "id": "d451d282-d814-4b7e-b2be-da7ca66d0d67",
   "metadata": {},
   "source": [
    "## Two cols:"
   ]
  },
  {
   "cell_type": "code",
   "execution_count": 115,
   "id": "2ed974a6-0d25-41d6-90dc-a15730683844",
   "metadata": {},
   "outputs": [],
   "source": [
    "plt.close('all')"
   ]
  },
  {
   "cell_type": "code",
   "execution_count": 122,
   "id": "4dca7f36-41c4-4339-98db-b22c3c5224b7",
   "metadata": {},
   "outputs": [
    {
     "data": {
      "application/vnd.jupyter.widget-view+json": {
       "model_id": "87ce647748b146f1b206dc409cb07492",
       "version_major": 2,
       "version_minor": 0
      },
      "text/plain": [
       "Canvas(toolbar=Toolbar(toolitems=[('Home', 'Reset original view', 'home', 'home'), ('Back', 'Back to previous …"
      ]
     },
     "metadata": {},
     "output_type": "display_data"
    }
   ],
   "source": [
    "fig, ax = plt.subplots(figsize=(4,4))\n",
    "\n",
    "data1 = within_lda\n",
    "data2 = across_lda\n",
    "\n",
    "metric = 'f1'\n",
    "\n",
    "set1, set2 = [],[]\n",
    "for pat_num in pat_nums:\n",
    "    for task in tasks:\n",
    "        for stim_cond in stim_conds:\n",
    "            \n",
    "            data1_vals = data1[str(pat_num)][task][stim_cond]\n",
    "            if data1_vals is None:\n",
    "                continue\n",
    "            data2_vals = data2[str(pat_num)][task][stim_cond]\n",
    "            \n",
    "            data1_val = data1_vals[metric]['mean']\n",
    "            data2_val = data2_vals[metric]['mean']\n",
    "            \n",
    "            set1.append(data1_val); set2.append(data2_val)\n",
    "            if data1_val is not None:\n",
    "                c = 'C1' if stim_cond=='ON' else 'C0'\n",
    "                ax.plot([0,1],[data1_val, data2_val],c=c)\n",
    "                ax.scatter([0,1],[data1_val, data2_val],c=c,marker='s',s=15)\n",
    "            \n",
    "lines = [Line2D([0], [0], label = 'StimOFF',color='C0'), Line2D([0], [0], label = 'StimON',color='C1')]\n",
    "plt.legend(lines, ['StimOFF', 'StimON'])\n",
    "\n",
    "ax.set_xticks([0,1])\n",
    "ax.set_xticklabels(['LDA \\n within cond.','LDA \\n across cond.'])\n",
    "ax.set_ylabel(metric)\n",
    "\n",
    "plt.tight_layout()\n",
    "#ax.set_ylim([ax.get_ylim()[0], 1.15])"
   ]
  },
  {
   "cell_type": "code",
   "execution_count": 71,
   "id": "60fd9b40-3483-42af-b06d-ffd0983b3f2a",
   "metadata": {},
   "outputs": [
    {
     "data": {
      "application/vnd.jupyter.widget-view+json": {
       "model_id": "a095c1f9502e45c19de2bcfbbddb1f43",
       "version_major": 2,
       "version_minor": 0
      },
      "text/plain": [
       "Canvas(toolbar=Toolbar(toolitems=[('Home', 'Reset original view', 'home', 'home'), ('Back', 'Back to previous …"
      ]
     },
     "metadata": {},
     "output_type": "display_data"
    },
    {
     "data": {
      "text/plain": [
       "(0.5113930135520915, 1.15)"
      ]
     },
     "execution_count": 71,
     "metadata": {},
     "output_type": "execute_result"
    }
   ],
   "source": [
    "fig, ax = plt.subplots(figsize=(4,4))\n",
    "\n",
    "data1 = within_svm\n",
    "data2 = within_cnn\n",
    "data3 = within_lda\n",
    "\n",
    "metric = 'f1'\n",
    "\n",
    "set1, set2, set3 = [],[],[]\n",
    "for pat_num in pat_nums:\n",
    "    for task in tasks:\n",
    "        for stim_cond in stim_conds:\n",
    "            \n",
    "            data1_vals = data1[str(pat_num)][task][stim_cond]\n",
    "            if data1_vals is None:\n",
    "                continue\n",
    "            data2_vals = data2[str(pat_num)][task][stim_cond]\n",
    "            data3_vals = data3[str(pat_num)][task][stim_cond]\n",
    "            \n",
    "            data1_val = data1_vals[metric]['mean']\n",
    "            data2_val = data2_vals[metric]['mean']\n",
    "            data3_val = data3_vals[metric]['mean']\n",
    "            \n",
    "            set1.append(data1_val); set2.append(data2_val); set3.append(data3_val)\n",
    "            if data1_val is not None:\n",
    "                c = 'C1' if stim_cond=='ON' else 'C0'\n",
    "                ax.plot([0,1,2],[data1_val, data2_val, data3_val],c=c)\n",
    "                ax.scatter([0,1,2],[data1_val, data2_val, data3_val],c=c,marker='s',s=15)\n",
    "            \n",
    "lines = [Line2D([0], [0], label = 'StimOFF',color='C0'), Line2D([0], [0], label = 'StimON',color='C1')]\n",
    "plt.legend(lines, ['StimOFF', 'StimON'])\n",
    "\n",
    "ax.set_xticks([0,1,2])\n",
    "ax.set_xticklabels(['SVM','CNN','LDA'])\n",
    "ax.set_ylabel(metric)\n",
    "\n",
    "ax.set_ylim([ax.get_ylim()[0], 1.15])"
   ]
  },
  {
   "cell_type": "code",
   "execution_count": 95,
   "id": "18f0c7c0-0d7a-4b47-9a6e-0b6cb28975bf",
   "metadata": {},
   "outputs": [
    {
     "data": {
      "application/vnd.jupyter.widget-view+json": {
       "model_id": "b684040d32124b799802982b8d8c3d6f",
       "version_major": 2,
       "version_minor": 0
      },
      "text/plain": [
       "Canvas(toolbar=Toolbar(toolitems=[('Home', 'Reset original view', 'home', 'home'), ('Back', 'Back to previous …"
      ]
     },
     "metadata": {},
     "output_type": "display_data"
    },
    {
     "data": {
      "text/plain": [
       "(0.10102328181095083, 1.15)"
      ]
     },
     "execution_count": 95,
     "metadata": {},
     "output_type": "execute_result"
    }
   ],
   "source": [
    "fig, ax = plt.subplots(figsize=(4,4))\n",
    "\n",
    "data1 = within_svm\n",
    "data2 = within_cnn\n",
    "data3 = within_lda\n",
    "\n",
    "metric = 'f1'\n",
    "\n",
    "set1, set2, set3 = [],[],[]\n",
    "for pat_num in pat_nums:\n",
    "    for task in tasks:\n",
    "        for stim_cond in stim_conds:\n",
    "            \n",
    "            data1_vals = data1[str(pat_num)][task][stim_cond]\n",
    "            if data1_vals is None:\n",
    "                continue\n",
    "            data2_vals = data2[str(pat_num)][task][stim_cond]\n",
    "            data3_vals = data3[str(pat_num)][task][stim_cond]\n",
    "            \n",
    "            for i in range(5):\n",
    "                data1_val = data1_vals[metric]['folds'][i]\n",
    "                data2_val = data2_vals[metric]['folds'][i]\n",
    "                data3_val = data3_vals[metric]['folds'][i]\n",
    "\n",
    "                set1.append(data1_val); set2.append(data2_val); set3.append(data3_val)\n",
    "                if data1_val is not None:\n",
    "                    c = 'C1' if stim_cond=='ON' else 'C0'\n",
    "                    ax.plot([0,1,2],[data1_val, data2_val, data3_val],c=c, alpha=0.3,linewidth=0.3)\n",
    "                    ax.scatter([0,1,2],[data1_val, data2_val, data3_val],c=c,marker='s',s=15, alpha=0.3)\n",
    "            \n",
    "lines = [Line2D([0], [0], label = 'StimOFF',color='C0'), Line2D([0], [0], label = 'StimON',color='C1')]\n",
    "plt.legend(lines, ['StimOFF', 'StimON'])\n",
    "\n",
    "ax.set_xticks([0,1,2])\n",
    "ax.set_xticklabels(['SVM','CNN','LDA'])\n",
    "ax.set_ylabel(metric)\n",
    "\n",
    "ax.set_ylim([ax.get_ylim()[0], 1.15])"
   ]
  },
  {
   "cell_type": "code",
   "execution_count": 86,
   "id": "9f8115c7-044a-461c-a415-70dd15509db8",
   "metadata": {},
   "outputs": [],
   "source": [
    "plt.close('all')"
   ]
  },
  {
   "cell_type": "code",
   "execution_count": 48,
   "id": "c44a793d-d838-4e6e-a2b1-649bd1c26b21",
   "metadata": {},
   "outputs": [
    {
     "data": {
      "application/vnd.jupyter.widget-view+json": {
       "model_id": "94fc34ae83424d33ba83dda592b31a56",
       "version_major": 2,
       "version_minor": 0
      },
      "text/plain": [
       "Canvas(toolbar=Toolbar(toolitems=[('Home', 'Reset original view', 'home', 'home'), ('Back', 'Back to previous …"
      ]
     },
     "metadata": {},
     "output_type": "display_data"
    }
   ],
   "source": [
    "fig, ax = plt.subplots()\n",
    "\n",
    "within = across_svm\n",
    "across = across_cnn\n",
    "\n",
    "set1, set2 = [],[]\n",
    "for pat_num in pat_nums:\n",
    "    for task in tasks:\n",
    "        for stim_cond in stim_conds:\n",
    "            \n",
    "            within_vals = within[str(pat_num)][task][stim_cond]\n",
    "            if within_vals is None:\n",
    "                continue\n",
    "            across_vals = across[str(pat_num)][task][stim_cond]\n",
    "            \n",
    "            for i in range(5):\n",
    "                within_val = within_vals['AUC']['folds'][i]\n",
    "                across_val = across_vals['AUC']['folds'][i]\n",
    "                set1.append(within_val); set2.append(across_val)\n",
    "                if within_val is not None and across_val is not None:\n",
    "                    ax.plot([0,1],[within_val, across_val],c='k', linewidth=0.5)"
   ]
  },
  {
   "cell_type": "code",
   "execution_count": 62,
   "id": "a88d163c-0511-4816-81d1-688b1d513218",
   "metadata": {},
   "outputs": [],
   "source": [
    "from scipy.stats import ttest_rel"
   ]
  },
  {
   "cell_type": "code",
   "execution_count": 97,
   "id": "439d57f4-8db7-47b7-97b6-191475afadfe",
   "metadata": {},
   "outputs": [
    {
     "data": {
      "text/plain": [
       "Ttest_relResult(statistic=1.6746425368660773, pvalue=0.952212410604509)"
      ]
     },
     "execution_count": 97,
     "metadata": {},
     "output_type": "execute_result"
    }
   ],
   "source": [
    "ttest_rel(set1,set3,alternative='less')"
   ]
  },
  {
   "cell_type": "code",
   "execution_count": 80,
   "id": "a33cb1cf-0fd2-48bf-abf7-705b9f4ba3fe",
   "metadata": {},
   "outputs": [
    {
     "data": {
      "text/plain": [
       "2"
      ]
     },
     "execution_count": 80,
     "metadata": {},
     "output_type": "execute_result"
    }
   ],
   "source": [
    "np.sum( (np.array(set1) - np.array(set2)) > 0.05) "
   ]
  },
  {
   "cell_type": "code",
   "execution_count": 82,
   "id": "1f64e146-4f87-4308-b3c0-d52b56643a25",
   "metadata": {},
   "outputs": [
    {
     "data": {
      "text/plain": [
       "40"
      ]
     },
     "execution_count": 82,
     "metadata": {},
     "output_type": "execute_result"
    }
   ],
   "source": [
    "np.array(set2).size"
   ]
  },
  {
   "cell_type": "code",
   "execution_count": 98,
   "id": "d9047374-b17a-4323-91ac-13eaf9cf882f",
   "metadata": {},
   "outputs": [
    {
     "data": {
      "application/vnd.jupyter.widget-view+json": {
       "model_id": "9e6b90bd24f745dea45fd51038f3887e",
       "version_major": 2,
       "version_minor": 0
      },
      "text/plain": [
       "Canvas(toolbar=Toolbar(toolitems=[('Home', 'Reset original view', 'home', 'home'), ('Back', 'Back to previous …"
      ]
     },
     "metadata": {},
     "output_type": "display_data"
    },
    {
     "name": "stderr",
     "output_type": "stream",
     "text": [
      "/home/fernando/anaconda3/envs/all/lib/python3.9/site-packages/seaborn/_decorators.py:36: FutureWarning: Pass the following variables as keyword args: x, y. From version 0.12, the only valid positional argument will be `data`, and passing other arguments without an explicit keyword will result in an error or misinterpretation.\n",
      "  warnings.warn(\n"
     ]
    },
    {
     "data": {
      "text/plain": [
       "<AxesSubplot:>"
      ]
     },
     "execution_count": 98,
     "metadata": {},
     "output_type": "execute_result"
    }
   ],
   "source": [
    "fig, ax = plt.subplots()\n",
    "set1, set2 = np.array(set1),np.array(set2)\n",
    "\n",
    "\n",
    "sns.violinplot(np.zeros_like(set1),set2-set1, inner='point')"
   ]
  },
  {
   "cell_type": "code",
   "execution_count": null,
   "id": "59347314-5df9-49e4-9887-ffc6e308b4c5",
   "metadata": {},
   "outputs": [],
   "source": [
    "plt.close('all')"
   ]
  },
  {
   "cell_type": "code",
   "execution_count": null,
   "id": "825850fb-8f34-4f40-979f-ced8a1bb1184",
   "metadata": {},
   "outputs": [],
   "source": []
  }
 ],
 "metadata": {
  "kernelspec": {
   "display_name": "Python 3",
   "language": "python",
   "name": "python3"
  },
  "language_info": {
   "codemirror_mode": {
    "name": "ipython",
    "version": 3
   },
   "file_extension": ".py",
   "mimetype": "text/x-python",
   "name": "python",
   "nbconvert_exporter": "python",
   "pygments_lexer": "ipython3",
   "version": "3.9.4"
  }
 },
 "nbformat": 4,
 "nbformat_minor": 5
}
