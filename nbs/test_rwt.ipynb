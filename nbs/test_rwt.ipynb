{
 "cells": [
  {
   "cell_type": "code",
   "execution_count": 1,
   "metadata": {},
   "outputs": [
    {
     "data": {
      "application/javascript": [
       "IPython.notebook.set_autosave_interval(10000)"
      ]
     },
     "metadata": {},
     "output_type": "display_data"
    },
    {
     "name": "stdout",
     "output_type": "stream",
     "text": [
      "Autosaving every 10 seconds\n"
     ]
    }
   ],
   "source": [
    "%load_ext autoreload\n",
    "%autoreload 2\n",
    "\n",
    "%autosave 10\n",
    "\n",
    "#%load_ext lab_black"
   ]
  },
  {
   "cell_type": "code",
   "execution_count": 2,
   "metadata": {},
   "outputs": [],
   "source": [
    "import sys\n",
    "import os\n",
    "\n",
    "sys.path.insert(0, os.path.abspath(os.path.join(\"..\")))"
   ]
  },
  {
   "cell_type": "code",
   "execution_count": 3,
   "metadata": {},
   "outputs": [],
   "source": [
    "from lfp_analysis.data import *\n",
    "from lfp_analysis.process import *"
   ]
  },
  {
   "cell_type": "code",
   "execution_count": 4,
   "metadata": {},
   "outputs": [],
   "source": [
    "import numpy as np\n",
    "import pandas as pd\n",
    "import h5py\n",
    "from scipy import signal\n",
    "\n",
    "\n",
    "from pathlib import Path\n",
    "\n",
    "import matplotlib.pyplot as plt\n",
    "\n",
    "%matplotlib widget"
   ]
  },
  {
   "cell_type": "code",
   "execution_count": 5,
   "metadata": {},
   "outputs": [],
   "source": [
    "def dB(x): return 20 * np.log10(abs(x))\n",
    "def zscore(z): return (z-np.mean(z))/np.std(z)"
   ]
  },
  {
   "cell_type": "markdown",
   "metadata": {},
   "source": [
    "# Frequency response of rwt filter:"
   ]
  },
  {
   "cell_type": "code",
   "execution_count": 6,
   "metadata": {},
   "outputs": [],
   "source": [
    "b,a = rwt_coefficients(20,2048,6)\n",
    "\n",
    "a,b = np.array(a),np.array(b)"
   ]
  },
  {
   "cell_type": "code",
   "execution_count": 7,
   "metadata": {},
   "outputs": [],
   "source": [
    "sys = signal.dlti(b,a,dt=1/2048.0)\n",
    "w, h = signal.freqz(b,a,fs=2048)\n"
   ]
  },
  {
   "cell_type": "code",
   "execution_count": 8,
   "metadata": {},
   "outputs": [
    {
     "data": {
      "application/vnd.jupyter.widget-view+json": {
       "model_id": "4cdbcb34200e42bfa793a94a92ec997c",
       "version_major": 2,
       "version_minor": 0
      },
      "text/plain": [
       "Canvas(toolbar=Toolbar(toolitems=[('Home', 'Reset original view', 'home', 'home'), ('Back', 'Back to previous …"
      ]
     },
     "metadata": {},
     "output_type": "display_data"
    },
    {
     "data": {
      "text/plain": [
       "(0.0, 100.0)"
      ]
     },
     "execution_count": 8,
     "metadata": {},
     "output_type": "execute_result"
    }
   ],
   "source": [
    "fig, ax = plt.subplots(2,2,sharex=True)\n",
    "ax[0,0].plot(w,h.real); ax[0,1].plot(w,np.abs(h))\n",
    "ax[1,0].plot(w,h.imag); ax[1,1].plot(w,np.angle(h,deg=True))\n",
    "\n",
    "ax[0,0].set_title('Real'); ax[0,1].set_title('Abs'); \n",
    "ax[1,0].set_title('Imag'); ax[1,1].set_title('Phase'); \n",
    "\n",
    "ax[0,0].set_xlim([0, 100])"
   ]
  },
  {
   "cell_type": "code",
   "execution_count": 9,
   "metadata": {},
   "outputs": [
    {
     "data": {
      "text/plain": [
       "Text(0.5, 0, 'Frequency [Hz]')"
      ]
     },
     "execution_count": 9,
     "metadata": {},
     "output_type": "execute_result"
    },
    {
     "data": {
      "image/png": "[encoded data removed]",
      "text/plain": [
       "<Figure size 432x288 with 1 Axes>"
      ]
     },
     "metadata": {
      "needs_background": "light"
     },
     "output_type": "display_data"
    }
   ],
   "source": [
    "fig, ax = plt.subplots()\n",
    "ax.plot(w,np.abs(h))\n",
    "\n",
    "ax.set_title('Filter frequency response')\n",
    "ax.set_xlim([0, 100])\n",
    "ax.set_ylabel('Amplitude')\n",
    "ax.set_xlabel('Frequency [Hz]')"
   ]
  },
  {
   "cell_type": "markdown",
   "metadata": {},
   "source": [
    "## White noise:"
   ]
  },
  {
   "cell_type": "code",
   "execution_count": 10,
   "metadata": {},
   "outputs": [],
   "source": [
    "fs = 2048\n",
    "N = 1e6\n",
    "\n",
    "raw = np.random.random((1,int(N)))-0.5"
   ]
  },
  {
   "cell_type": "code",
   "execution_count": 11,
   "metadata": {},
   "outputs": [],
   "source": [
    "f,P = signal.welch(raw,fs=fs,scaling='spectrum')"
   ]
  },
  {
   "cell_type": "code",
   "execution_count": 12,
   "metadata": {},
   "outputs": [
    {
     "data": {
      "text/plain": [
       "[<matplotlib.lines.Line2D at 0x7f78886ccdc0>]"
      ]
     },
     "execution_count": 12,
     "metadata": {},
     "output_type": "execute_result"
    },
    {
     "data": {
      "image/png": "[encoded data removed]",
      "text/plain": [
       "<Figure size 432x288 with 1 Axes>"
      ]
     },
     "metadata": {
      "needs_background": "light"
     },
     "output_type": "display_data"
    }
   ],
   "source": [
    "fig,ax = plt.subplots()\n",
    "ax.plot(f,P.T)"
   ]
  },
  {
   "cell_type": "code",
   "execution_count": 13,
   "metadata": {},
   "outputs": [],
   "source": [
    "filt_comp = zscore(np.abs(signal.lfilter(b,a,raw)).T)\n",
    "filt_real = zscore(np.abs(signal.lfilter(np.abs(b),np.abs(a),raw)).T)\n",
    "\n",
    "diff = filt_comp-filt_real\n",
    "\n",
    "f,P_comp = signal.welch(filt_comp.T,fs=fs,scaling='spectrum')\n",
    "f,P_real = signal.welch(filt_real.T,fs=fs,scaling='spectrum')\n",
    "\n",
    "f,P_diff = signal.welch(diff.T,fs=fs,scaling='spectrum')\n"
   ]
  },
  {
   "cell_type": "code",
   "execution_count": 14,
   "metadata": {},
   "outputs": [
    {
     "data": {
      "text/plain": [
       "(0.0, 100.0)"
      ]
     },
     "execution_count": 14,
     "metadata": {},
     "output_type": "execute_result"
    },
    {
     "data": {
      "image/png": "[encoded data removed]",
      "text/plain": [
       "<Figure size 432x288 with 2 Axes>"
      ]
     },
     "metadata": {
      "needs_background": "light"
     },
     "output_type": "display_data"
    },
    {
     "data": {
      "image/png": "[encoded data removed]",
      "text/plain": [
       "<Figure size 432x288 with 2 Axes>"
      ]
     },
     "metadata": {
      "needs_background": "light"
     },
     "output_type": "display_data"
    }
   ],
   "source": [
    "fig, ax = plt.subplots(2,1,sharex=True, sharey=True)\n",
    "ax[0].plot(filt_comp)\n",
    "ax[1].plot(filt_real)\n",
    "\n",
    "fig, ax = plt.subplots(2,1,sharex=True,sharey=True)\n",
    "ax[0].plot(f,P_comp.T)\n",
    "ax[1].plot(f,P_real.T)\n",
    "ax[0].set_xlim([0, 100])"
   ]
  },
  {
   "cell_type": "code",
   "execution_count": 15,
   "metadata": {},
   "outputs": [
    {
     "data": {
      "text/plain": [
       "(0.0, 100.0)"
      ]
     },
     "execution_count": 15,
     "metadata": {},
     "output_type": "execute_result"
    },
    {
     "data": {
      "image/png": "[encoded data removed]",
      "text/plain": [
       "<Figure size 432x288 with 2 Axes>"
      ]
     },
     "metadata": {
      "needs_background": "light"
     },
     "output_type": "display_data"
    }
   ],
   "source": [
    "fig, ax = plt.subplots(2,1)\n",
    "\n",
    "ax[0].plot(diff)\n",
    "ax[1].plot(f,P_diff.T)\n",
    "ax[1].set_xlim([0,100])"
   ]
  },
  {
   "cell_type": "code",
   "execution_count": 16,
   "metadata": {},
   "outputs": [],
   "source": [
    "corr = signal.correlate(filt_comp,filt_real); corr /= np.max(corr)\n",
    "lags = signal.correlation_lags(filt_comp.size,filt_real.size)"
   ]
  },
  {
   "cell_type": "code",
   "execution_count": 17,
   "metadata": {},
   "outputs": [
    {
     "data": {
      "text/plain": [
       "(1999999, 1)"
      ]
     },
     "execution_count": 17,
     "metadata": {},
     "output_type": "execute_result"
    }
   ],
   "source": [
    "corr.shape"
   ]
  },
  {
   "cell_type": "code",
   "execution_count": 18,
   "metadata": {},
   "outputs": [
    {
     "data": {
      "text/plain": [
       "(-5000.0, 5000.0)"
      ]
     },
     "execution_count": 18,
     "metadata": {},
     "output_type": "execute_result"
    },
    {
     "data": {
      "image/png": "[encoded data removed]",
      "text/plain": [
       "<Figure size 432x288 with 1 Axes>"
      ]
     },
     "metadata": {
      "needs_background": "light"
     },
     "output_type": "display_data"
    }
   ],
   "source": [
    "fig, ax = plt.subplots()\n",
    "\n",
    "ax.plot(lags,corr)\n",
    "ax.set_xlim([-5000,5000])\n"
   ]
  },
  {
   "cell_type": "code",
   "execution_count": null,
   "metadata": {},
   "outputs": [],
   "source": []
  },
  {
   "cell_type": "code",
   "execution_count": null,
   "metadata": {},
   "outputs": [],
   "source": []
  },
  {
   "cell_type": "markdown",
   "metadata": {},
   "source": [
    "# Filterbank and TF-decomposition"
   ]
  },
  {
   "cell_type": "code",
   "execution_count": null,
   "metadata": {},
   "outputs": [],
   "source": []
  },
  {
   "cell_type": "code",
   "execution_count": 19,
   "metadata": {},
   "outputs": [
    {
     "data": {
      "text/plain": [
       "Text(0.5, 0, 'Time [s]')"
      ]
     },
     "execution_count": 19,
     "metadata": {},
     "output_type": "execute_result"
    },
    {
     "data": {
      "image/png": "[encoded data removed]",
      "text/plain": [
       "<Figure size 432x288 with 1 Axes>"
      ]
     },
     "metadata": {
      "needs_background": "light"
     },
     "output_type": "display_data"
    }
   ],
   "source": [
    "f1 = 12\n",
    "f2 = 33\n",
    "\n",
    "t = np.arange(0,1,1.0/fs)\n",
    "x = 0.4*np.sin(2*np.pi*f1*t)*((t>0.15)&(t<0.4)) + 0.8*np.sin(2*np.pi*f2*t)*((t>0.6)&(t<0.8))\n",
    "#x = np.sin(2*np.pi*40*t)\n",
    "\n",
    "fig,ax = plt.subplots()\n",
    "ax.plot(t,x)\n",
    "ax.set_title('Signal (12 Hz and 33 Hz)')\n",
    "ax.set_xlabel('Time [s]')"
   ]
  },
  {
   "cell_type": "code",
   "execution_count": 20,
   "metadata": {},
   "outputs": [],
   "source": [
    "freqs = [8,12,16,20,24,28,32,36,40,44,48,52,56,60]\n",
    "\n",
    "b_s,a_s = rwt_filterbank(freqs)"
   ]
  },
  {
   "cell_type": "code",
   "execution_count": 21,
   "metadata": {},
   "outputs": [
    {
     "data": {
      "application/vnd.jupyter.widget-view+json": {
       "model_id": "00c7cee1df674d09b1a3a9f5578019d9",
       "version_major": 2,
       "version_minor": 0
      },
      "text/plain": [
       "Canvas(toolbar=Toolbar(toolitems=[('Home', 'Reset original view', 'home', 'home'), ('Back', 'Back to previous …"
      ]
     },
     "metadata": {},
     "output_type": "display_data"
    },
    {
     "data": {
      "text/plain": [
       "Text(0.5, 1.0, 'RWT filterbank')"
      ]
     },
     "execution_count": 21,
     "metadata": {},
     "output_type": "execute_result"
    }
   ],
   "source": [
    "fig,ax = plt.subplots()\n",
    "\n",
    "for ii,freq in enumerate(freqs):\n",
    "    w, h = signal.freqz(b_s[ii,],a_s[ii,],fs=2048)\n",
    "    ax.plot(w,np.abs(h))\n",
    "\n",
    "ax.set_xlim([-0, 150])\n",
    "ax.set_xlabel('Freq [Hz]')\n",
    "ax.set_ylabel('Amplitude')\n",
    "ax.set_title('RWT filterbank')"
   ]
  },
  {
   "cell_type": "code",
   "execution_count": 22,
   "metadata": {},
   "outputs": [],
   "source": [
    "from mne.time_frequency.tfr import morlet"
   ]
  },
  {
   "cell_type": "code",
   "execution_count": 23,
   "metadata": {},
   "outputs": [],
   "source": [
    "bs_morlet = morlet(2048,freqs,n_cycles=1)"
   ]
  },
  {
   "cell_type": "code",
   "execution_count": 24,
   "metadata": {},
   "outputs": [
    {
     "data": {
      "text/plain": [
       "(163,)"
      ]
     },
     "execution_count": 24,
     "metadata": {},
     "output_type": "execute_result"
    }
   ],
   "source": [
    "bs_morlet[3].shape"
   ]
  },
  {
   "cell_type": "code",
   "execution_count": 25,
   "metadata": {},
   "outputs": [
    {
     "data": {
      "application/vnd.jupyter.widget-view+json": {
       "model_id": "4e0d31b00894418e82bc274f4ed3bc07",
       "version_major": 2,
       "version_minor": 0
      },
      "text/plain": [
       "Canvas(toolbar=Toolbar(toolitems=[('Home', 'Reset original view', 'home', 'home'), ('Back', 'Back to previous …"
      ]
     },
     "metadata": {},
     "output_type": "display_data"
    }
   ],
   "source": [
    "fig,ax = plt.subplots()\n",
    "\n",
    "for ii,freq in enumerate(freqs):\n",
    "    w, h = signal.freqz(bs_morlet[ii],fs=2048)\n",
    "    ax.plot(w,np.abs(h))\n",
    "\n",
    "    ax.set_xlim([0, 150])\n",
    "    ax.set_xlabel('Freq [Hz]')\n",
    "    ax.set_ylabel('Amplitude')\n",
    "    ax.set_title('Morlet filterbank')"
   ]
  },
  {
   "cell_type": "code",
   "execution_count": 26,
   "metadata": {},
   "outputs": [
    {
     "data": {
      "application/vnd.jupyter.widget-view+json": {
       "model_id": "dbe8ee58c6944494b68bc837841159d8",
       "version_major": 2,
       "version_minor": 0
      },
      "text/plain": [
       "Canvas(toolbar=Toolbar(toolitems=[('Home', 'Reset original view', 'home', 'home'), ('Back', 'Back to previous …"
      ]
     },
     "metadata": {},
     "output_type": "display_data"
    }
   ],
   "source": [
    "fig,ax = plt.subplots()\n",
    "\n",
    "for ii,freq in enumerate(freqs[:-1]):\n",
    "    b,a = signal.butter(2,[freqs[ii], freqs[ii+1]],'bandpass',fs=2048)\n",
    "    w, h = signal.freqz(b,a,fs=2048)\n",
    "    ax.plot(w,np.abs(h))\n",
    "\n",
    "    ax.set_xlim([0, 150])\n",
    "    ax.set_xlabel('Freq [Hz]')\n",
    "    ax.set_ylabel('Amplitude')\n",
    "    ax.set_title('Butterworth filterbank')"
   ]
  },
  {
   "cell_type": "code",
   "execution_count": 27,
   "metadata": {},
   "outputs": [
    {
     "data": {
      "application/vnd.jupyter.widget-view+json": {
       "model_id": "1ec7cb75c893443a936fad6001ed10e8",
       "version_major": 2,
       "version_minor": 0
      },
      "text/plain": [
       "Canvas(toolbar=Toolbar(toolitems=[('Home', 'Reset original view', 'home', 'home'), ('Back', 'Back to previous …"
      ]
     },
     "metadata": {},
     "output_type": "display_data"
    }
   ],
   "source": [
    "butter = np.zeros((len(freqs)-1,t.size),dtype=np.complex_)\n",
    "\n",
    "for ii,freq in enumerate(freqs[:-1]):    \n",
    "    b,a = signal.butter(2,[freqs[ii], freqs[ii+1]],'bandpass',fs=2048)\n",
    "\n",
    "    butter[ii,:] = np.abs(signal.hilbert(signal.lfilter(b,a,x)))\n",
    "    \n",
    "fig,ax = plt.subplots()\n",
    "ax.imshow(np.abs(butter),extent=[0,1,freqs[0]-2,freqs[-1]+2],origin='lower',aspect='auto',interpolation='none')\n",
    "\n",
    "ax.vlines(0.15,8,60,colors='w',linestyles='dashed',linewidth=0.5)\n",
    "ax.vlines(0.4,8,60,colors='w',linestyles='dashed',linewidth=0.5)\n",
    "ax.vlines(0.6,8,60,colors='w',linestyles='dashed',linewidth=0.5)\n",
    "ax.vlines(0.8,8,60,colors='w',linestyles='dashed',linewidth=0.5)\n",
    "\n",
    "ax.hlines(12,0.15,0.4,colors='w');ax.hlines(33,0.6,0.8,colors='w');"
   ]
  },
  {
   "cell_type": "markdown",
   "metadata": {},
   "source": [
    "### Create sinusoid:"
   ]
  },
  {
   "cell_type": "code",
   "execution_count": 28,
   "metadata": {},
   "outputs": [
    {
     "data": {
      "application/vnd.jupyter.widget-view+json": {
       "model_id": "5d602b9dcb98447aaa1e566524fede90",
       "version_major": 2,
       "version_minor": 0
      },
      "text/plain": [
       "Canvas(toolbar=Toolbar(toolitems=[('Home', 'Reset original view', 'home', 'home'), ('Back', 'Back to previous …"
      ]
     },
     "metadata": {},
     "output_type": "display_data"
    }
   ],
   "source": [
    "rwt = np.zeros((len(freqs),t.size),dtype=np.complex_)\n",
    "\n",
    "for ii,freq in enumerate(freqs):\n",
    "    rwt[ii,:] = signal.lfilter(b_s[ii,],a_s[ii,],x)\n",
    "    \n",
    "fig,ax = plt.subplots()\n",
    "ax.imshow(np.abs(rwt),extent=[0,1,freqs[0]-2,freqs[-1]+2],origin='lower',aspect='auto',interpolation='none')\n",
    "\n",
    "ax.vlines(0.15,8,60,colors='w',linestyles='dashed',linewidth=0.5)\n",
    "ax.vlines(0.4,8,60,colors='w',linestyles='dashed',linewidth=0.5)\n",
    "ax.vlines(0.6,8,60,colors='w',linestyles='dashed',linewidth=0.5)\n",
    "ax.vlines(0.8,8,60,colors='w',linestyles='dashed',linewidth=0.5)\n",
    "ax.hlines(12,0.15,0.4,colors='w');ax.hlines(33,0.6,0.8,colors='w');"
   ]
  },
  {
   "cell_type": "code",
   "execution_count": 29,
   "metadata": {},
   "outputs": [],
   "source": [
    "cwt = mne.time_frequency.tfr_array_morlet(x[np.newaxis,np.newaxis,...],2048,freqs,n_cycles=3)\n",
    "cwt = np.squeeze(cwt)"
   ]
  },
  {
   "cell_type": "code",
   "execution_count": 30,
   "metadata": {},
   "outputs": [],
   "source": [
    "cwt = np.zeros((len(freqs),t.size),dtype=np.complex_)\n",
    " \n",
    "for ii,freq in enumerate(freqs):\n",
    "    cwt[ii,:] = np.abs(signal.hilbert(np.abs(signal.lfilter(bs_morlet[ii],[1],x))))"
   ]
  },
  {
   "cell_type": "code",
   "execution_count": 31,
   "metadata": {},
   "outputs": [
    {
     "data": {
      "application/vnd.jupyter.widget-view+json": {
       "model_id": "b7645f6b0edb49fc9dfcaa13730a4f32",
       "version_major": 2,
       "version_minor": 0
      },
      "text/plain": [
       "Canvas(toolbar=Toolbar(toolitems=[('Home', 'Reset original view', 'home', 'home'), ('Back', 'Back to previous …"
      ]
     },
     "metadata": {},
     "output_type": "display_data"
    }
   ],
   "source": [
    "fig,ax = plt.subplots()\n",
    "ax.imshow(np.abs(cwt),extent=[0,1,freqs[0]-2,freqs[-1]+2],origin='lower',aspect='auto',interpolation='none')\n",
    "\n",
    "ax.vlines(0.15,8,60,colors='w',linestyles='dashed',linewidth=0.5)\n",
    "ax.vlines(0.4,8,60,colors='w',linestyles='dashed',linewidth=0.5)\n",
    "ax.vlines(0.6,8,60,colors='w',linestyles='dashed',linewidth=0.5)\n",
    "ax.vlines(0.8,8,60,colors='w',linestyles='dashed',linewidth=0.5)\n",
    "ax.hlines(12,0.15,0.4,colors='w');ax.hlines(33,0.6,0.8,colors='w');"
   ]
  },
  {
   "cell_type": "code",
   "execution_count": 32,
   "metadata": {},
   "outputs": [
    {
     "data": {
      "application/vnd.jupyter.widget-view+json": {
       "model_id": "9437f42f4db84b34b62d30ab8e550a7e",
       "version_major": 2,
       "version_minor": 0
      },
      "text/plain": [
       "Canvas(toolbar=Toolbar(toolitems=[('Home', 'Reset original view', 'home', 'home'), ('Back', 'Back to previous …"
      ]
     },
     "metadata": {},
     "output_type": "display_data"
    }
   ],
   "source": [
    "cwt = np.zeros((len(freqs),t.size),dtype=np.complex_)\n",
    "\n",
    "for ii,freq in enumerate(freqs):\n",
    "    cwt[ii,:] = np.abs(signal.convolve(x,bs_morlet[ii],'same',method='fft'))\n",
    "\n",
    "fig,ax = plt.subplots()\n",
    "\n",
    "ax.imshow(np.abs(cwt),extent=[0,1,freqs[0]-2,freqs[-1]+2],origin='lower',aspect='auto',interpolation='none')\n",
    "\n",
    "ax.vlines(0.15,8,60,colors='w',linestyles='dashed',linewidth=0.5)\n",
    "ax.vlines(0.4,8,60,colors='w',linestyles='dashed',linewidth=0.5)\n",
    "ax.vlines(0.6,8,60,colors='w',linestyles='dashed',linewidth=0.5)\n",
    "ax.vlines(0.8,8,60,colors='w',linestyles='dashed',linewidth=0.5)\n",
    "ax.hlines(12,0.15,0.4,colors='w');ax.hlines(33,0.6,0.8,colors='w');"
   ]
  },
  {
   "cell_type": "code",
   "execution_count": null,
   "metadata": {},
   "outputs": [],
   "source": []
  },
  {
   "cell_type": "code",
   "execution_count": null,
   "metadata": {},
   "outputs": [],
   "source": []
  },
  {
   "cell_type": "code",
   "execution_count": null,
   "metadata": {},
   "outputs": [],
   "source": []
  },
  {
   "cell_type": "code",
   "execution_count": null,
   "metadata": {},
   "outputs": [],
   "source": []
  },
  {
   "cell_type": "code",
   "execution_count": null,
   "metadata": {},
   "outputs": [],
   "source": []
  }
 ],
 "metadata": {
  "kernelspec": {
   "display_name": "Python 3",
   "language": "python",
   "name": "python3"
  },
  "language_info": {
   "codemirror_mode": {
    "name": "ipython",
    "version": 3
   },
   "file_extension": ".py",
   "mimetype": "text/x-python",
   "name": "python",
   "nbconvert_exporter": "python",
   "pygments_lexer": "ipython3",
   "version": "3.8.5"
  }
 },
 "nbformat": 4,
 "nbformat_minor": 4
}
