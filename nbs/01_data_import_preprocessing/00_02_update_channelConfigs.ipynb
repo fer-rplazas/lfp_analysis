{
 "cells": [
  {
   "cell_type": "code",
   "execution_count": 1,
   "id": "4cca3642-39e6-4486-bc97-9e9d2294992b",
   "metadata": {},
   "outputs": [
    {
     "data": {
      "application/javascript": [
       "IPython.notebook.set_autosave_interval(10000)"
      ]
     },
     "metadata": {},
     "output_type": "display_data"
    },
    {
     "name": "stdout",
     "output_type": "stream",
     "text": [
      "Autosaving every 10 seconds\n"
     ]
    }
   ],
   "source": [
    "%load_ext autoreload\n",
    "%autoreload 2\n",
    "\n",
    "%autosave 10\n",
    "\n",
    "#%load_ext lab_black"
   ]
  },
  {
   "cell_type": "code",
   "execution_count": 2,
   "id": "7ecf9eff-380a-483f-8d93-6d8e69fbe72f",
   "metadata": {},
   "outputs": [],
   "source": [
    "import sys\n",
    "import os\n",
    "\n",
    "sys.path.insert(0, os.path.abspath(os.path.join(\"..\")))"
   ]
  },
  {
   "cell_type": "markdown",
   "id": "96909808-1c1d-4f8f-a4e2-47a9f3b3b1cd",
   "metadata": {},
   "source": [
    "## Imports"
   ]
  },
  {
   "cell_type": "code",
   "execution_count": 3,
   "id": "676f552b-fb7c-4783-828e-6c1348a5d2f9",
   "metadata": {},
   "outputs": [],
   "source": [
    "from lfp_analysis.data import *"
   ]
  },
  {
   "cell_type": "code",
   "execution_count": 4,
   "id": "64d6559b-efee-4e06-92c1-e9af3a7d211a",
   "metadata": {},
   "outputs": [],
   "source": [
    "import numpy as np\n",
    "import pandas as pd\n",
    "import h5py\n",
    "\n",
    "from pathlib import Path\n",
    "\n",
    "import matplotlib.pyplot as plt\n",
    "\n",
    "%matplotlib widget\n",
    "figsize=(8,3)"
   ]
  },
  {
   "cell_type": "code",
   "execution_count": 5,
   "id": "44f671d4-e7f4-4088-9598-b12b9ba3dfa3",
   "metadata": {},
   "outputs": [],
   "source": [
    "def parse_time(timestamp):\n",
    "    assert ('.' in timestamp) and (':' in timestamp), 'Wrong timestamp format, does not contain both \":\" and \".\"'\n",
    "    parsed_milli = float(timestamp.split('.')[1]) / 1000\n",
    "    parsed_secs = timestamp.split('.')[0].split(':')\n",
    "    return float(parsed_secs[0])*60 + float(parsed_secs[1]) + parsed_milli\n"
   ]
  },
  {
   "cell_type": "code",
   "execution_count": 8,
   "id": "bb66bbda-ff64-405d-9c50-80e21d6b2bc5",
   "metadata": {},
   "outputs": [],
   "source": [
    "def regions_to_array(regions_df, label_corrected):\n",
    "    \n",
    "    regions_df['Start'] = regions_df['Start'].apply(parse_time)\n",
    "    regions_df['End'] = regions_df['End'].apply(parse_time)\n",
    "    \n",
    "    for ii,row in regions_df.iterrows():\n",
    "        label_corrected[int(row['Start'] * 2048.0) : int(row['End'] * 2048.0)] = 1\n",
    "        \n",
    "    return label_corrected\n",
    "        "
   ]
  },
  {
   "cell_type": "markdown",
   "id": "f0cd1ff3-dd59-4642-9d7f-357679ef7247",
   "metadata": {},
   "source": [
    "## Read label file"
   ]
  },
  {
   "cell_type": "code",
   "execution_count": 12,
   "id": "f586b867-f4dd-402e-9a7f-6bacf454089c",
   "metadata": {},
   "outputs": [],
   "source": [
    "PAT_ID = Path('ET7')\n",
    "\n",
    "task = 'Pegboard'\n",
    "stim_cond = 'on'\n",
    "\n",
    "DATASET_NAME = Path(task+'_'+stim_cond)\n",
    "\n",
    "DATA_PATH = Path(\"./../data\")\n",
    "H5_FILE = DATA_PATH / 'preprocessed' / PAT_ID / DATASET_NAME.with_suffix('.h5')\n",
    "\n",
    "CSV_PATH = DATA_PATH / 'preprocessed' / PAT_ID / Path(str(DATASET_NAME)+'_'+'label') / 'regions_corrected.csv'"
   ]
  },
  {
   "cell_type": "code",
   "execution_count": null,
   "id": "0c22c54c-c499-4f8a-b99d-1b8b96cc0f5d",
   "metadata": {},
   "outputs": [],
   "source": []
  },
  {
   "cell_type": "code",
   "execution_count": 13,
   "id": "1d075409-f605-4273-b48b-aac11d207c0c",
   "metadata": {},
   "outputs": [],
   "source": [
    "h5 = h5py.File(H5_FILE, \"r\")\n",
    "LFPs = h5[\"LFP\"][:]\n",
    "h5.close()\n"
   ]
  },
  {
   "cell_type": "code",
   "execution_count": 14,
   "id": "32d54418-430c-4a8e-80a4-8677f0dbbf46",
   "metadata": {},
   "outputs": [
    {
     "data": {
      "text/plain": [
       "(3, 1561039)"
      ]
     },
     "execution_count": 14,
     "metadata": {},
     "output_type": "execute_result"
    }
   ],
   "source": [
    "LFPs.shape"
   ]
  },
  {
   "cell_type": "code",
   "execution_count": null,
   "id": "f8743ae3-0991-4ce7-b3b6-88ad8e691463",
   "metadata": {},
   "outputs": [],
   "source": []
  },
  {
   "cell_type": "code",
   "execution_count": null,
   "id": "b0781a1a-fe9e-4f8e-8d34-7042d2460c72",
   "metadata": {},
   "outputs": [],
   "source": []
  },
  {
   "cell_type": "code",
   "execution_count": null,
   "id": "70421855-ee98-435a-ac92-e7ddff7757c5",
   "metadata": {},
   "outputs": [],
   "source": []
  },
  {
   "cell_type": "code",
   "execution_count": null,
   "id": "efb15867-5820-48cf-98d8-dab2cdb7da6e",
   "metadata": {},
   "outputs": [],
   "source": []
  },
  {
   "cell_type": "code",
   "execution_count": 328,
   "id": "f424fd0e-9a8f-4fc4-a0b8-6fb5f105bd93",
   "metadata": {},
   "outputs": [],
   "source": [
    "regions_df = pd.read_csv(CSV_PATH)"
   ]
  },
  {
   "cell_type": "code",
   "execution_count": 329,
   "id": "5629af25-0909-470a-9ceb-703d22f19578",
   "metadata": {},
   "outputs": [
    {
     "data": {
      "text/html": [
       "<div>\n",
       "<style scoped>\n",
       "    .dataframe tbody tr th:only-of-type {\n",
       "        vertical-align: middle;\n",
       "    }\n",
       "\n",
       "    .dataframe tbody tr th {\n",
       "        vertical-align: top;\n",
       "    }\n",
       "\n",
       "    .dataframe thead th {\n",
       "        text-align: right;\n",
       "    }\n",
       "</style>\n",
       "<table border=\"1\" class=\"dataframe\">\n",
       "  <thead>\n",
       "    <tr style=\"text-align: right;\">\n",
       "      <th></th>\n",
       "      <th>#</th>\n",
       "      <th>Name</th>\n",
       "      <th>Start</th>\n",
       "      <th>End</th>\n",
       "      <th>Length</th>\n",
       "    </tr>\n",
       "  </thead>\n",
       "  <tbody>\n",
       "    <tr>\n",
       "      <th>0</th>\n",
       "      <td>R4</td>\n",
       "      <td>2</td>\n",
       "      <td>0:39.000</td>\n",
       "      <td>1:31.000</td>\n",
       "      <td>0:52.000</td>\n",
       "    </tr>\n",
       "    <tr>\n",
       "      <th>1</th>\n",
       "      <td>R6</td>\n",
       "      <td>4</td>\n",
       "      <td>1:47.910</td>\n",
       "      <td>2:25.042</td>\n",
       "      <td>0:37.131</td>\n",
       "    </tr>\n",
       "    <tr>\n",
       "      <th>2</th>\n",
       "      <td>R7</td>\n",
       "      <td>5</td>\n",
       "      <td>2:51.000</td>\n",
       "      <td>3:28.000</td>\n",
       "      <td>0:37.000</td>\n",
       "    </tr>\n",
       "    <tr>\n",
       "      <th>3</th>\n",
       "      <td>R10</td>\n",
       "      <td>8</td>\n",
       "      <td>3:49.000</td>\n",
       "      <td>4:28.312</td>\n",
       "      <td>0:39.312</td>\n",
       "    </tr>\n",
       "    <tr>\n",
       "      <th>4</th>\n",
       "      <td>R11</td>\n",
       "      <td>9</td>\n",
       "      <td>4:55.751</td>\n",
       "      <td>5:29.000</td>\n",
       "      <td>0:33.248</td>\n",
       "    </tr>\n",
       "  </tbody>\n",
       "</table>\n",
       "</div>"
      ],
      "text/plain": [
       "     #  Name     Start       End    Length\n",
       "0   R4     2  0:39.000  1:31.000  0:52.000\n",
       "1   R6     4  1:47.910  2:25.042  0:37.131\n",
       "2   R7     5  2:51.000  3:28.000  0:37.000\n",
       "3  R10     8  3:49.000  4:28.312  0:39.312\n",
       "4  R11     9  4:55.751  5:29.000  0:33.248"
      ]
     },
     "execution_count": 329,
     "metadata": {},
     "output_type": "execute_result"
    }
   ],
   "source": [
    "regions_df.head()"
   ]
  },
  {
   "cell_type": "code",
   "execution_count": 330,
   "id": "2aeda368-0295-4f45-b987-2c777381ec8e",
   "metadata": {
    "tags": []
   },
   "outputs": [],
   "source": [
    "label_corrected = regions_to_array(regions_df, label_corrected);"
   ]
  },
  {
   "cell_type": "code",
   "execution_count": 331,
   "id": "87b538ad-93c1-43bb-8444-1706b27c79c6",
   "metadata": {},
   "outputs": [
    {
     "data": {
      "application/vnd.jupyter.widget-view+json": {
       "model_id": "8fb5604c34df4f5cb4ae3868fb7c79a1",
       "version_major": 2,
       "version_minor": 0
      },
      "text/plain": [
       "Canvas(toolbar=Toolbar(toolitems=[('Home', 'Reset original view', 'home', 'home'), ('Back', 'Back to previous …"
      ]
     },
     "metadata": {},
     "output_type": "display_data"
    },
    {
     "data": {
      "text/plain": [
       "[<matplotlib.lines.Line2D at 0x7fdd6b2ab8b0>]"
      ]
     },
     "execution_count": 331,
     "metadata": {},
     "output_type": "execute_result"
    }
   ],
   "source": [
    "fig,ax = plt.subplots()\n",
    "ax.plot(label)\n",
    "ax.plot(label_corrected*0.5)"
   ]
  },
  {
   "cell_type": "code",
   "execution_count": 332,
   "id": "c8667fc6-3c36-495d-92c0-8f61cde68d82",
   "metadata": {},
   "outputs": [],
   "source": [
    "plt.close('all')"
   ]
  },
  {
   "cell_type": "markdown",
   "id": "18515ef2-6ff7-4492-81f2-dd0769ca7e9e",
   "metadata": {},
   "source": [
    "# Overwrite label in H5:"
   ]
  },
  {
   "cell_type": "code",
   "execution_count": 333,
   "id": "a03383da-c7ac-4827-a6c5-e7fbc74583ce",
   "metadata": {},
   "outputs": [],
   "source": [
    "h5 = h5py.File(H5_FILE, \"r+\")\n",
    "h5_label = h5[\"label\"]\n",
    "h5_label[...] = label_corrected\n",
    "h5.close()"
   ]
  },
  {
   "cell_type": "code",
   "execution_count": null,
   "id": "2ca65d4c-0e91-4a63-ac86-80657c8c902b",
   "metadata": {},
   "outputs": [],
   "source": []
  },
  {
   "cell_type": "code",
   "execution_count": null,
   "id": "1e7ea9e6-3f63-432e-8356-4f64fa8737ab",
   "metadata": {},
   "outputs": [],
   "source": []
  }
 ],
 "metadata": {
  "kernelspec": {
   "display_name": "Python 3",
   "language": "python",
   "name": "python3"
  },
  "language_info": {
   "codemirror_mode": {
    "name": "ipython",
    "version": 3
   },
   "file_extension": ".py",
   "mimetype": "text/x-python",
   "name": "python",
   "nbconvert_exporter": "python",
   "pygments_lexer": "ipython3",
   "version": "3.9.4"
  }
 },
 "nbformat": 4,
 "nbformat_minor": 5
}
