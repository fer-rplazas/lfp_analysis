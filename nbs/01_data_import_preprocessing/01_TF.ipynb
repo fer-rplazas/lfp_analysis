{
 "cells": [
  {
   "cell_type": "markdown",
   "metadata": {},
   "source": [
    "## Notebook settings"
   ]
  },
  {
   "cell_type": "code",
   "execution_count": 1,
   "metadata": {},
   "outputs": [
    {
     "data": {
      "application/javascript": [
       "IPython.notebook.set_autosave_interval(10000)"
      ]
     },
     "metadata": {},
     "output_type": "display_data"
    },
    {
     "name": "stdout",
     "output_type": "stream",
     "text": [
      "Autosaving every 10 seconds\n"
     ]
    }
   ],
   "source": [
    "%load_ext autoreload\n",
    "%autoreload 2\n",
    "\n",
    "%autosave 10\n",
    "\n",
    "#%load_ext lab_black"
   ]
  },
  {
   "cell_type": "code",
   "execution_count": 2,
   "metadata": {},
   "outputs": [],
   "source": [
    "import sys\n",
    "import os\n",
    "\n",
    "sys.path.insert(0, os.path.abspath(os.path.join(\"..\")))"
   ]
  },
  {
   "cell_type": "markdown",
   "metadata": {},
   "source": [
    "## Imports"
   ]
  },
  {
   "cell_type": "code",
   "execution_count": 3,
   "metadata": {},
   "outputs": [],
   "source": [
    "from lfp_analysis.data import *\n",
    "from lfp_analysis.process import *"
   ]
  },
  {
   "cell_type": "code",
   "execution_count": 4,
   "metadata": {},
   "outputs": [],
   "source": [
    "import numpy as np\n",
    "import pandas as pd\n",
    "import h5py\n",
    "\n",
    "from pathlib import Path\n",
    "\n",
    "import matplotlib.pyplot as plt\n",
    "\n",
    "%matplotlib widget"
   ]
  },
  {
   "cell_type": "markdown",
   "metadata": {},
   "source": [
    "## Visualization utils:"
   ]
  },
  {
   "cell_type": "code",
   "execution_count": 5,
   "metadata": {},
   "outputs": [],
   "source": [
    "def image_hist(X):\n",
    "    v_min, v_max = X.min(), X.max()\n",
    "    bins = np.linspace(v_min, v_max, 400)\n",
    "    hist_data = np.apply_along_axis(lambda a: np.histogram(a, bins=bins)[0], 1, X)\n",
    "\n",
    "    plt.figure()\n",
    "    plt.imshow(hist_data, aspect=\"auto\", extent=(v_min, v_max, 2, 101))\n",
    "    plt.colorbar()\n",
    "    plt.show()"
   ]
  },
  {
   "cell_type": "code",
   "execution_count": 6,
   "metadata": {},
   "outputs": [],
   "source": [
    "from PIL import Image\n",
    "import PIL\n",
    "\n",
    "\n",
    "def view_sample(X, idx=176, win_size=256, contiguous=7):\n",
    "\n",
    "    cm = plt.get_cmap(\"viridis\")\n",
    "    img = Image.fromarray(\n",
    "        np.uint8(cm(X[:, idx * win_size : (idx + 1 * contiguous) * win_size]) * 255)\n",
    "    )\n",
    "\n",
    "    # print(np.any(bipolar.label[idx * win_size : (idx + 1 * contiguous) * win_size]))\n",
    "    return img.transpose(PIL.Image.FLIP_TOP_BOTTOM).resize((256 * contiguous, 256))"
   ]
  },
  {
   "cell_type": "code",
   "execution_count": null,
   "metadata": {},
   "outputs": [],
   "source": []
  },
  {
   "cell_type": "markdown",
   "metadata": {},
   "source": [
    "# Import data:"
   ]
  },
  {
   "cell_type": "code",
   "execution_count": 7,
   "metadata": {},
   "outputs": [],
   "source": [
    "PAT_ID = Path('ET8')\n",
    "DATASET_NAME = Path('Posture_off')\n",
    "\n",
    "DATA_PATH = Path(\"./../data\")\n",
    "H5_FILE = DATA_PATH / 'preprocessed' / PAT_ID / DATASET_NAME.with_suffix('.h5')"
   ]
  },
  {
   "cell_type": "code",
   "execution_count": 8,
   "metadata": {},
   "outputs": [],
   "source": [
    "h5 = h5py.File(H5_FILE, \"r\")\n",
    "bipolar = h5[\"LFP\"][:]\n",
    "h5.close()"
   ]
  },
  {
   "cell_type": "code",
   "execution_count": 9,
   "metadata": {},
   "outputs": [
    {
     "data": {
      "text/plain": [
       "(6, 1391298)"
      ]
     },
     "execution_count": 9,
     "metadata": {},
     "output_type": "execute_result"
    }
   ],
   "source": [
    "bipolar.shape"
   ]
  },
  {
   "cell_type": "code",
   "execution_count": 10,
   "metadata": {},
   "outputs": [],
   "source": [
    "TF = TfTransformer(bipolar).TF().power"
   ]
  },
  {
   "cell_type": "code",
   "execution_count": null,
   "metadata": {},
   "outputs": [],
   "source": []
  },
  {
   "cell_type": "markdown",
   "metadata": {},
   "source": [
    "# Processing options:"
   ]
  },
  {
   "cell_type": "raw",
   "metadata": {},
   "source": [
    "# Raw power:\n",
    "t_X = TF[0]\n",
    "\n",
    "image_hist(t_X)\n",
    "view_sample(t_X)"
   ]
  },
  {
   "cell_type": "raw",
   "metadata": {},
   "source": [
    "t_X = np.log(TF[0])\n",
    "\n",
    "image_hist(t_X)\n",
    "view_sample(t_X)"
   ]
  },
  {
   "cell_type": "raw",
   "metadata": {},
   "source": [
    "t_X = clip(zscore(np.log(TF[0])))\n",
    "\n",
    "image_hist(t_X)\n",
    "view_sample(t_X)"
   ]
  },
  {
   "cell_type": "raw",
   "metadata": {},
   "source": [
    "t_X = clip(zscore((TF[0])))\n",
    "\n",
    "image_hist(t_X)\n",
    "view_sample(t_X)"
   ]
  },
  {
   "cell_type": "raw",
   "metadata": {},
   "source": [
    "t_X = clip(bl_correct(TF[0]))\n",
    "\n",
    "image_hist(t_X)\n",
    "view_sample(t_X)"
   ]
  },
  {
   "cell_type": "raw",
   "metadata": {},
   "source": [
    "t_X = clip(zscore(bl_correct(TF[0])))\n",
    "\n",
    "image_hist(t_X)\n",
    "view_sample(t_X)"
   ]
  },
  {
   "cell_type": "markdown",
   "metadata": {},
   "source": [
    "# Process TF:"
   ]
  },
  {
   "cell_type": "code",
   "execution_count": 11,
   "metadata": {},
   "outputs": [],
   "source": [
    "def process(X, **kwargs):\n",
    "    # X = AxisApplier(np.log)(X)\n",
    "    X = AxisApplier(zscore)(X)\n",
    "    X = AxisApplier(clip)(X, **kwargs)\n",
    "\n",
    "    return X"
   ]
  },
  {
   "cell_type": "code",
   "execution_count": null,
   "metadata": {},
   "outputs": [],
   "source": [
    "TF = process(TF, std_factor=5)"
   ]
  },
  {
   "cell_type": "code",
   "execution_count": null,
   "metadata": {},
   "outputs": [],
   "source": [
    "# Quantize:\n",
    "TF = np.uint8(TF * 255)"
   ]
  },
  {
   "cell_type": "markdown",
   "metadata": {},
   "source": [
    "# Save to file:"
   ]
  },
  {
   "cell_type": "code",
   "execution_count": null,
   "metadata": {},
   "outputs": [],
   "source": [
    "def save_to_h5(path, TF):\n",
    "    f = h5py.File(path, \"w\")\n",
    "    f.create_dataset(\"TF\", data=TF)\n",
    "    f.close()"
   ]
  },
  {
   "cell_type": "code",
   "execution_count": null,
   "metadata": {},
   "outputs": [],
   "source": [
    "H5_TARGET = DATA_PATH/'TF_and_df'/ PAT_ID / DATASET_NAME.with_suffix('.h5')"
   ]
  },
  {
   "cell_type": "code",
   "execution_count": null,
   "metadata": {},
   "outputs": [],
   "source": [
    "save_to_h5(H5_TARGET, TF)"
   ]
  },
  {
   "cell_type": "code",
   "execution_count": null,
   "metadata": {},
   "outputs": [],
   "source": []
  }
 ],
 "metadata": {
  "kernelspec": {
   "display_name": "Python 3",
   "language": "python",
   "name": "python3"
  },
  "language_info": {
   "codemirror_mode": {
    "name": "ipython",
    "version": 3
   },
   "file_extension": ".py",
   "mimetype": "text/x-python",
   "name": "python",
   "nbconvert_exporter": "python",
   "pygments_lexer": "ipython3",
   "version": "3.9.4"
  }
 },
 "nbformat": 4,
 "nbformat_minor": 4
}
