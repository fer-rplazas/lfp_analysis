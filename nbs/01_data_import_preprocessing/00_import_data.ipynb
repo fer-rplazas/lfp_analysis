{
 "cells": [
  {
   "cell_type": "markdown",
   "source": [
    "## Notebook settings"
   ],
   "metadata": {}
  },
  {
   "cell_type": "code",
   "execution_count": 1,
   "source": [
    "%load_ext autoreload\n",
    "%autoreload 2\n",
    "\n",
    "%autosave 10\n",
    "\n",
    "#%load_ext lab_black"
   ],
   "outputs": [
    {
     "output_type": "display_data",
     "data": {
      "application/javascript": "IPython.notebook.set_autosave_interval(10000)"
     },
     "metadata": {}
    },
    {
     "output_type": "stream",
     "name": "stdout",
     "text": [
      "Autosaving every 10 seconds\n"
     ]
    }
   ],
   "metadata": {}
  },
  {
   "cell_type": "code",
   "execution_count": 2,
   "source": [
    "import sys\n",
    "import os\n",
    "\n",
    "sys.path.insert(0, os.path.abspath(os.path.join(\"..\")))"
   ],
   "outputs": [],
   "metadata": {}
  },
  {
   "cell_type": "markdown",
   "source": [
    "## Imports"
   ],
   "metadata": {}
  },
  {
   "cell_type": "code",
   "execution_count": 3,
   "source": [
    "from lfp_analysis.data import *"
   ],
   "outputs": [],
   "metadata": {}
  },
  {
   "cell_type": "code",
   "execution_count": 1,
   "source": [
    "import numpy as np\n",
    "import pandas as pd\n",
    "import h5py\n",
    "\n",
    "from pathlib import Path\n",
    "\n",
    "import matplotlib.pyplot as plt\n",
    "\n",
    "%matplotlib widget\n",
    "figsize=(8,3)"
   ],
   "outputs": [],
   "metadata": {}
  },
  {
   "cell_type": "code",
   "execution_count": 3,
   "source": [
    "len(np.ones((2,2)).shape)"
   ],
   "outputs": [
    {
     "output_type": "execute_result",
     "data": {
      "text/plain": [
       "(2, 2)"
      ]
     },
     "metadata": {},
     "execution_count": 3
    }
   ],
   "metadata": {}
  },
  {
   "cell_type": "markdown",
   "source": [
    "# Import Data & Pre-process:"
   ],
   "metadata": {}
  },
  {
   "cell_type": "code",
   "execution_count": 5,
   "source": [
    "PAT_ID = Path('ET1')\n",
    "DATASET_NAME = Path('Pegboard_on')\n",
    "\n",
    "DATA_PATH = Path(\"./../data\")\n",
    "SMR_FILE = Path(\"./../../ET_Tremor_data\") / PAT_ID / DATASET_NAME.with_suffix('.smr')"
   ],
   "outputs": [],
   "metadata": {}
  },
  {
   "cell_type": "code",
   "execution_count": 6,
   "source": [
    "importer = SmrImporter(SMR_FILE)"
   ],
   "outputs": [],
   "metadata": {}
  },
  {
   "cell_type": "code",
   "execution_count": 7,
   "source": [
    "importer.ch_names"
   ],
   "outputs": [
    {
     "output_type": "execute_result",
     "data": {
      "text/plain": [
       "['Fcz',\n",
       " 'Cz',\n",
       " 'F3',\n",
       " 'F4',\n",
       " 'C3',\n",
       " 'C4',\n",
       " 'Cp3',\n",
       " 'Cp4',\n",
       " 'L0',\n",
       " 'L2',\n",
       " 'L3',\n",
       " 'R0',\n",
       " 'R1',\n",
       " 'R2',\n",
       " 'R3',\n",
       " 'L02',\n",
       " 'R02',\n",
       " 'R13',\n",
       " 'FIDL',\n",
       " 'FLBL',\n",
       " 'FIDR',\n",
       " 'FLBR',\n",
       " 'Aclx',\n",
       " 'Acly',\n",
       " 'Aclz',\n",
       " 'Acrx',\n",
       " 'Acry',\n",
       " 'Acrz',\n",
       " 'FrcL',\n",
       " 'FrcR']"
      ]
     },
     "metadata": {},
     "execution_count": 7
    }
   ],
   "metadata": {}
  },
  {
   "cell_type": "code",
   "execution_count": 8,
   "source": [
    "importer.data.shape"
   ],
   "outputs": [
    {
     "output_type": "execute_result",
     "data": {
      "text/plain": [
       "(30, 1561039)"
      ]
     },
     "metadata": {},
     "execution_count": 8
    }
   ],
   "metadata": {}
  },
  {
   "cell_type": "raw",
   "source": [
    "b,a = butter(3,1,\"hp\",fs=2038)\n",
    "raw = importer[\"EMGL\"]\n",
    "hp = filtfilt(b,a,raw)\n",
    "hil = np.abs(hilbert(hp))\n",
    "smoothed = uniform_filter1d(hil,size=int(0.256*2048))\n",
    "\n",
    "\n",
    "thresh = np.percentile(smoothed, 50)\n",
    "label = (np.abs(smoothed) > thresh).astype(float)\n",
    "\n",
    "fig,ax = plt.subplots()\n",
    "\n",
    "ax.plot(hp)\n",
    "ax.plot(hil)\n",
    "ax.plot(smoothed)\n",
    "ax.plot(label*thresh*10)"
   ],
   "metadata": {}
  },
  {
   "cell_type": "raw",
   "source": [
    "fig,ax = plt.subplots()\n",
    "ax.plot(importer[\"L02\"])"
   ],
   "metadata": {}
  },
  {
   "cell_type": "markdown",
   "source": [
    "## Behavioral data:"
   ],
   "metadata": {}
  },
  {
   "cell_type": "code",
   "execution_count": 9,
   "source": [
    "bipolar = (\n",
    "    LFPData.from_importer(importer, ['L02',\n",
    " 'R02',\n",
    " 'R13',])\n",
    "    .highpass()\n",
    "    .limit(std_factor=4.5,plot=True,figsize=(8,8))\n",
    ")"
   ],
   "outputs": [
    {
     "output_type": "display_data",
     "data": {
      "text/plain": [
       "Canvas(toolbar=Toolbar(toolitems=[('Home', 'Reset original view', 'home', 'home'), ('Back', 'Back to previous …"
      ],
      "application/vnd.jupyter.widget-view+json": {
       "model_id": "97336846732d45258e502ca74359def6",
       "version_major": 2,
       "version_minor": 0
      }
     },
     "metadata": {}
    }
   ],
   "metadata": {
    "tags": []
   }
  },
  {
   "cell_type": "code",
   "execution_count": 10,
   "source": [
    "emg = (EMGData\n",
    "       .from_importer(importer,emg_names=['FLBR'])\n",
    "       .to_label(smoothing=0.3,percentile=45,use_hilbert=True,figsize=figsize))"
   ],
   "outputs": [
    {
     "output_type": "display_data",
     "data": {
      "text/plain": [
       "Canvas(toolbar=Toolbar(toolitems=[('Home', 'Reset original view', 'home', 'home'), ('Back', 'Back to previous …"
      ],
      "application/vnd.jupyter.widget-view+json": {
       "model_id": "f2d321fbfc1d4e228ca875a03de6beb0",
       "version_major": 2,
       "version_minor": 0
      }
     },
     "metadata": {}
    }
   ],
   "metadata": {}
  },
  {
   "cell_type": "code",
   "execution_count": 11,
   "source": [
    "acc = (\n",
    "    AccData.from_importer(importer, ['Aclx',\n",
    " 'Acly',\n",
    " 'Aclz',\n",
    " 'Acrx',\n",
    " 'Acry',\n",
    " 'Acrz'])\n",
    "    .to_magnitude()\n",
    "    .highpass()\n",
    "    .to_label(smoothing=0.58,percentile=75,figsize=figsize)\n",
    ")"
   ],
   "outputs": [
    {
     "output_type": "display_data",
     "data": {
      "text/plain": [
       "Canvas(toolbar=Toolbar(toolitems=[('Home', 'Reset original view', 'home', 'home'), ('Back', 'Back to previous …"
      ],
      "application/vnd.jupyter.widget-view+json": {
       "model_id": "ecfffdd61b604cff93898a2d99d3a532",
       "version_major": 2,
       "version_minor": 0
      }
     },
     "metadata": {}
    }
   ],
   "metadata": {
    "tags": []
   }
  },
  {
   "cell_type": "code",
   "execution_count": 12,
   "source": [
    "plt.close('all')"
   ],
   "outputs": [],
   "metadata": {}
  },
  {
   "cell_type": "code",
   "execution_count": 13,
   "source": [
    "emg.label.shape, bipolar.data.shape"
   ],
   "outputs": [
    {
     "output_type": "execute_result",
     "data": {
      "text/plain": [
       "((1561039,), (3, 1561039))"
      ]
     },
     "metadata": {},
     "execution_count": 13
    }
   ],
   "metadata": {}
  },
  {
   "cell_type": "code",
   "execution_count": 14,
   "source": [
    "bipolar.plot(figsize=figsize)\n",
    "plt.plot(acc.time(),emg.label*500)"
   ],
   "outputs": [
    {
     "output_type": "display_data",
     "data": {
      "text/plain": [
       "Canvas(toolbar=Toolbar(toolitems=[('Home', 'Reset original view', 'home', 'home'), ('Back', 'Back to previous …"
      ],
      "application/vnd.jupyter.widget-view+json": {
       "model_id": "b7e360f4558341349869e0fcccc0187d",
       "version_major": 2,
       "version_minor": 0
      }
     },
     "metadata": {}
    },
    {
     "output_type": "execute_result",
     "data": {
      "text/plain": [
       "[<matplotlib.lines.Line2D at 0x7f2183faac70>]"
      ]
     },
     "metadata": {},
     "execution_count": 14
    }
   ],
   "metadata": {}
  },
  {
   "cell_type": "markdown",
   "source": [
    "# Save to H5:"
   ],
   "metadata": {}
  },
  {
   "cell_type": "code",
   "execution_count": 15,
   "source": [
    "task = 'Pegboard'\n",
    "stim_cond = 'on'\n",
    "if task == 'Pegboard' or task=='Pouring':\n",
    "    label_source = acc\n",
    "else:\n",
    "    label_source = emg\n",
    "\n",
    "DATASET_NAME = Path(task+'_'+stim_cond)"
   ],
   "outputs": [],
   "metadata": {}
  },
  {
   "cell_type": "code",
   "execution_count": 16,
   "source": [
    "save_to_h5(\n",
    "    DATA_PATH / \"preprocessed\" / PAT_ID / DATASET_NAME.with_suffix('.h5'),\n",
    "    bipolar.data,\n",
    "    label_source.label.astype(np.bool_),\n",
    ")"
   ],
   "outputs": [],
   "metadata": {}
  },
  {
   "cell_type": "code",
   "execution_count": null,
   "source": [],
   "outputs": [],
   "metadata": {}
  },
  {
   "cell_type": "markdown",
   "source": [
    "## Export to WAV and CSV for label revision:"
   ],
   "metadata": {}
  },
  {
   "cell_type": "code",
   "execution_count": 17,
   "source": [
    "from scipy.io.wavfile import write\n",
    "\n",
    "def label_to_csv(path, label):\n",
    "    \n",
    "    label[0]= 0 if label[0]==1 else label[0]\n",
    "    label[-1]= 0 if label[-1]==1 else label[-1]\n",
    "\n",
    "    diffed = np.diff(label)\n",
    "    \n",
    "    (ons,), (offs,) = np.where(diffed==1), np.where(diffed==-1)\n",
    "\n",
    "    data_df = pd.DataFrame(np.stack([ons,offs]).T / 2048.0)\n",
    "    data_df['label'] = 'ON'\n",
    "    \n",
    "    assert ons.shape == offs.shape, \"Unequal amounts of mvmt. onsets and offsets detected in label\"\n",
    "    \n",
    "    data_df.to_csv(path)\n",
    "    \n",
    "\n",
    "def rescale_channels(data,dtype=np.int16):\n",
    "    amp = np.iinfo(dtype).max\n",
    "    \n",
    "    return dtype(data / (np.max(data,axis=-1,keepdims=True) + 0.000001) * amp)\n",
    "\n",
    "\n",
    "def save_to_wav(path,data):\n",
    "    write(path,2048,rescale_channels(data).T)\n",
    "    "
   ],
   "outputs": [],
   "metadata": {}
  },
  {
   "cell_type": "code",
   "execution_count": 18,
   "source": [
    "lfp_wav_path = DATA_PATH / \"preprocessed\" / PAT_ID / Path(str(DATASET_NAME) + '_label') / \"lfps.wav\"\n",
    "acc_wav_path = DATA_PATH / \"preprocessed\" / PAT_ID / Path(str(DATASET_NAME) + '_label') / \"acc.wav\"\n",
    "emg_wav_path = DATA_PATH / \"preprocessed\" / PAT_ID / Path(str(DATASET_NAME) + '_label') / \"emg.wav\"\n",
    "\n",
    "label_csv_path = DATA_PATH / \"preprocessed\" / PAT_ID / Path(str(DATASET_NAME) + '_label') / \"regions.csv\""
   ],
   "outputs": [],
   "metadata": {}
  },
  {
   "cell_type": "code",
   "execution_count": 19,
   "source": [
    "save_to_wav(lfp_wav_path,bipolar.data)\n",
    "label_to_csv(label_csv_path,label_source.label)"
   ],
   "outputs": [],
   "metadata": {}
  },
  {
   "cell_type": "code",
   "execution_count": 20,
   "source": [
    "save_to_wav(acc_wav_path,acc.data)"
   ],
   "outputs": [],
   "metadata": {}
  },
  {
   "cell_type": "code",
   "execution_count": 21,
   "source": [
    "save_to_wav(emg_wav_path,emg.data)"
   ],
   "outputs": [],
   "metadata": {}
  },
  {
   "cell_type": "code",
   "execution_count": null,
   "source": [],
   "outputs": [],
   "metadata": {}
  },
  {
   "cell_type": "code",
   "execution_count": null,
   "source": [],
   "outputs": [],
   "metadata": {}
  },
  {
   "cell_type": "code",
   "execution_count": null,
   "source": [],
   "outputs": [],
   "metadata": {}
  },
  {
   "cell_type": "raw",
   "source": [
    "pat_ids = [f\"ET{i}\" for i in range(1, 9)]\n",
    "tasks = [\"Pegboard\", \"Pouring\", \"Posture\"]\n",
    "\n",
    "for pat in pat_ids:\n",
    "    for task in tasks:\n",
    "        for stim_cond in ['on','off']:\n",
    "            this_path = Path(DATA_PATH / 'preprocessed' / Path(pat) / Path(task+'_'+stim_cond+'_label'))\n",
    "            if not os.path.exists(this_path):\n",
    "                os.makedirs(this_path)"
   ],
   "metadata": {}
  },
  {
   "cell_type": "code",
   "execution_count": null,
   "source": [],
   "outputs": [],
   "metadata": {}
  },
  {
   "cell_type": "code",
   "execution_count": null,
   "source": [],
   "outputs": [],
   "metadata": {}
  }
 ],
 "metadata": {
  "kernelspec": {
   "name": "python3",
   "display_name": "Python 3.9.4 64-bit ('all': conda)"
  },
  "language_info": {
   "codemirror_mode": {
    "name": "ipython",
    "version": 3
   },
   "file_extension": ".py",
   "mimetype": "text/x-python",
   "name": "python",
   "nbconvert_exporter": "python",
   "pygments_lexer": "ipython3",
   "version": "3.9.4"
  },
  "interpreter": {
   "hash": "8560dc628d15a928806b7d7aafcdc8145b878b74caba84c56eafdbcf1882ffd4"
  }
 },
 "nbformat": 4,
 "nbformat_minor": 4
}