{
 "cells": [
  {
   "cell_type": "code",
   "execution_count": 2,
   "id": "d7a9b05a-b9ce-40ca-9acb-267734303071",
   "metadata": {},
   "outputs": [
    {
     "data": {
      "application/javascript": [
       "IPython.notebook.set_autosave_interval(10000)"
      ]
     },
     "metadata": {},
     "output_type": "display_data"
    },
    {
     "name": "stdout",
     "output_type": "stream",
     "text": [
      "Autosaving every 10 seconds\n"
     ]
    }
   ],
   "source": [
    "%load_ext autoreload\n",
    "%autoreload 2\n",
    "\n",
    "%autosave 10\n",
    "\n",
    "#%load_ext lab_black"
   ]
  },
  {
   "cell_type": "code",
   "execution_count": 3,
   "id": "63876ec7-3724-4b5e-9a20-135b5568e01e",
   "metadata": {},
   "outputs": [],
   "source": [
    "import sys\n",
    "import os\n",
    "\n",
    "sys.path.insert(0, os.path.abspath(os.path.join(\"..\")))"
   ]
  },
  {
   "cell_type": "code",
   "execution_count": 4,
   "id": "ca944259-e6a6-41dd-9f14-71ea65a383df",
   "metadata": {},
   "outputs": [
    {
     "name": "stderr",
     "output_type": "stream",
     "text": [
      "/home/fernando/anaconda3/envs/all/lib/python3.9/site-packages/torch/cuda/__init__.py:52: UserWarning: CUDA initialization: Unexpected error from cudaGetDeviceCount(). Did you run some cuda functions before calling NumCudaDevices() that might have already set an error? Error 803: system has unsupported display driver / cuda driver combination (Triggered internally at  /tmp/pip-req-build-h953rg2q/c10/cuda/CUDAFunctions.cpp:109.)\n",
      "  return torch._C._cuda_getDeviceCount() > 0\n"
     ]
    }
   ],
   "source": [
    "from lfp_analysis.data import *\n",
    "from lfp_analysis.process import *\n",
    "from lfp_analysis.resnet2d import *\n",
    "from lfp_analysis.resnet1d import *\n",
    "from lfp_analysis.svm import *\n",
    "from lfp_analysis.report import *\n",
    "\n",
    "from fastai.vision.all import *\n",
    "import torch.nn.functional as F"
   ]
  },
  {
   "cell_type": "code",
   "execution_count": 5,
   "id": "af530d0a-047e-4061-9367-7d0d32fe83a0",
   "metadata": {},
   "outputs": [],
   "source": [
    "import numpy as np\n",
    "import pandas as pd\n",
    "import h5py\n",
    "\n",
    "from pathlib import Path\n",
    "\n",
    "import matplotlib.pyplot as plt\n",
    "import matplotlib.patches as patches\n",
    "from matplotlib.colors import to_hex\n",
    "%matplotlib widget\n",
    "\n",
    "import matplotlib\n",
    "font = {'size'   :9}\n",
    "matplotlib.rc('font', **font)\n",
    "\n",
    "import seaborn as sns\n",
    "WIN_LEN_SEC = 0.750"
   ]
  },
  {
   "cell_type": "markdown",
   "id": "c6ace15e-649f-465a-a8f4-0d1230f964bd",
   "metadata": {},
   "source": [
    "## Create patient/task/stim_cond dict:"
   ]
  },
  {
   "cell_type": "code",
   "execution_count": 6,
   "id": "c9259e10-1a16-4c30-bfce-9becf7f4dd58",
   "metadata": {},
   "outputs": [],
   "source": [
    "def create_pat_task_stim_dict():\n",
    "    \n",
    "    pat_nums = list(range(1,9))\n",
    "    tasks = ['Pegboard', 'Pouring', 'Posture']\n",
    "    stim_conds = ['ON','OFF']\n",
    "\n",
    "    consolidate_channel_dict = {}\n",
    "\n",
    "    for pat_num in pat_nums:\n",
    "        consolidate_channel_dict[pat_num] = {}\n",
    "\n",
    "    for pat_num in pat_nums:    \n",
    "        for task in tasks:\n",
    "            consolidate_channel_dict[pat_num][task] = {}\n",
    "\n",
    "    for pat_num in pat_nums:    \n",
    "        for task in tasks:        \n",
    "            for stim_cond in stim_conds:\n",
    "                consolidate_channel_dict[pat_num][task][stim_cond] = None\n",
    "        \n",
    "    return consolidate_channel_dict"
   ]
  },
  {
   "cell_type": "code",
   "execution_count": null,
   "id": "75419a73-2059-465d-8c65-e198b8425518",
   "metadata": {},
   "outputs": [],
   "source": []
  },
  {
   "cell_type": "code",
   "execution_count": null,
   "id": "e542b2f1-02ef-4667-a265-57cc3f046452",
   "metadata": {},
   "outputs": [],
   "source": []
  },
  {
   "cell_type": "code",
   "execution_count": null,
   "id": "d9bf2001-a3ec-475c-af0d-405fb8fdcbce",
   "metadata": {},
   "outputs": [],
   "source": []
  },
  {
   "cell_type": "code",
   "execution_count": null,
   "id": "5b5f9aa0-c1af-40c0-8c3d-20169ce8b4db",
   "metadata": {},
   "outputs": [],
   "source": []
  },
  {
   "cell_type": "code",
   "execution_count": null,
   "id": "615cd335-5ad3-45b6-a744-c24d0b41dc6c",
   "metadata": {},
   "outputs": [],
   "source": []
  }
 ],
 "metadata": {
  "kernelspec": {
   "display_name": "Python 3",
   "language": "python",
   "name": "python3"
  },
  "language_info": {
   "codemirror_mode": {
    "name": "ipython",
    "version": 3
   },
   "file_extension": ".py",
   "mimetype": "text/x-python",
   "name": "python",
   "nbconvert_exporter": "python",
   "pygments_lexer": "ipython3",
   "version": "3.9.4"
  }
 },
 "nbformat": 4,
 "nbformat_minor": 5
}
